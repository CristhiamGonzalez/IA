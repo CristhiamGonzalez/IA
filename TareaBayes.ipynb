{
  "nbformat": 4,
  "nbformat_minor": 0,
  "metadata": {
    "colab": {
      "name": "TareaBayes.ipynb",
      "provenance": [],
      "authorship_tag": "ABX9TyOQdLog39BApPdcuxIhFF6m",
      "include_colab_link": true
    },
    "kernelspec": {
      "name": "python3",
      "display_name": "Python 3"
    },
    "language_info": {
      "name": "python"
    }
  },
  "cells": [
    {
      "cell_type": "markdown",
      "metadata": {
        "id": "view-in-github",
        "colab_type": "text"
      },
      "source": [
        "<a href=\"https://colab.research.google.com/github/CristhiamGonzalez/IA/blob/main/TareaBayes.ipynb\" target=\"_parent\"><img src=\"https://colab.research.google.com/assets/colab-badge.svg\" alt=\"Open In Colab\"/></a>"
      ]
    },
    {
      "cell_type": "code",
      "metadata": {
        "id": "9rYAf1McaQ4E"
      },
      "source": [
        "#Importamos las librerias\n",
        "import numpy as np # linear algebra\n",
        "import pandas as pd # data processing, CSV file I/O (e.g. pd.read_csv)\n",
        "import matplotlib.pyplot as plt\n",
        "import seaborn as sns"
      ],
      "execution_count": 35,
      "outputs": []
    },
    {
      "cell_type": "code",
      "metadata": {
        "id": "8vgHShfmadKj"
      },
      "source": [
        "#Importamos el dataset\n",
        "data = pd.read_csv(\"Iris.csv\")\n",
        "x = data.iloc[:, :-1].values\n",
        "y = data.iloc[:, -1].values\n"
      ],
      "execution_count": 36,
      "outputs": []
    },
    {
      "cell_type": "code",
      "metadata": {
        "colab": {
          "base_uri": "https://localhost:8080/"
        },
        "id": "N7ocVSVQbAjQ",
        "outputId": "8917062f-9af3-4ab9-ac59-417a7dbd85c8"
      },
      "source": [
        "#Comprobamos\n",
        "print(x)"
      ],
      "execution_count": 37,
      "outputs": [
        {
          "output_type": "stream",
          "name": "stdout",
          "text": [
            "[[5.1 3.5 1.4 0.2]\n",
            " [4.9 3.  1.4 0.2]\n",
            " [4.7 3.2 1.3 0.2]\n",
            " [4.6 3.1 1.5 0.2]\n",
            " [5.  3.6 1.4 0.2]\n",
            " [5.4 3.9 1.7 0.4]\n",
            " [4.6 3.4 1.4 0.3]\n",
            " [5.  3.4 1.5 0.2]\n",
            " [4.4 2.9 1.4 0.2]\n",
            " [4.9 3.1 1.5 0.1]\n",
            " [5.4 3.7 1.5 0.2]\n",
            " [4.8 3.4 1.6 0.2]\n",
            " [4.8 3.  1.4 0.1]\n",
            " [4.3 3.  1.1 0.1]\n",
            " [5.8 4.  1.2 0.2]\n",
            " [5.7 4.4 1.5 0.4]\n",
            " [5.4 3.9 1.3 0.4]\n",
            " [5.1 3.5 1.4 0.3]\n",
            " [5.7 3.8 1.7 0.3]\n",
            " [5.1 3.8 1.5 0.3]\n",
            " [5.4 3.4 1.7 0.2]\n",
            " [5.1 3.7 1.5 0.4]\n",
            " [4.6 3.6 1.  0.2]\n",
            " [5.1 3.3 1.7 0.5]\n",
            " [4.8 3.4 1.9 0.2]\n",
            " [5.  3.  1.6 0.2]\n",
            " [5.  3.4 1.6 0.4]\n",
            " [5.2 3.5 1.5 0.2]\n",
            " [5.2 3.4 1.4 0.2]\n",
            " [4.7 3.2 1.6 0.2]\n",
            " [4.8 3.1 1.6 0.2]\n",
            " [5.4 3.4 1.5 0.4]\n",
            " [5.2 4.1 1.5 0.1]\n",
            " [5.5 4.2 1.4 0.2]\n",
            " [4.9 3.1 1.5 0.1]\n",
            " [5.  3.2 1.2 0.2]\n",
            " [5.5 3.5 1.3 0.2]\n",
            " [4.9 3.1 1.5 0.1]\n",
            " [4.4 3.  1.3 0.2]\n",
            " [5.1 3.4 1.5 0.2]\n",
            " [5.  3.5 1.3 0.3]\n",
            " [4.5 2.3 1.3 0.3]\n",
            " [4.4 3.2 1.3 0.2]\n",
            " [5.  3.5 1.6 0.6]\n",
            " [5.1 3.8 1.9 0.4]\n",
            " [4.8 3.  1.4 0.3]\n",
            " [5.1 3.8 1.6 0.2]\n",
            " [4.6 3.2 1.4 0.2]\n",
            " [5.3 3.7 1.5 0.2]\n",
            " [5.  3.3 1.4 0.2]\n",
            " [7.  3.2 4.7 1.4]\n",
            " [6.4 3.2 4.5 1.5]\n",
            " [6.9 3.1 4.9 1.5]\n",
            " [5.5 2.3 4.  1.3]\n",
            " [6.5 2.8 4.6 1.5]\n",
            " [5.7 2.8 4.5 1.3]\n",
            " [6.3 3.3 4.7 1.6]\n",
            " [4.9 2.4 3.3 1. ]\n",
            " [6.6 2.9 4.6 1.3]\n",
            " [5.2 2.7 3.9 1.4]\n",
            " [5.  2.  3.5 1. ]\n",
            " [5.9 3.  4.2 1.5]\n",
            " [6.  2.2 4.  1. ]\n",
            " [6.1 2.9 4.7 1.4]\n",
            " [5.6 2.9 3.6 1.3]\n",
            " [6.7 3.1 4.4 1.4]\n",
            " [5.6 3.  4.5 1.5]\n",
            " [5.8 2.7 4.1 1. ]\n",
            " [6.2 2.2 4.5 1.5]\n",
            " [5.6 2.5 3.9 1.1]\n",
            " [5.9 3.2 4.8 1.8]\n",
            " [6.1 2.8 4.  1.3]\n",
            " [6.3 2.5 4.9 1.5]\n",
            " [6.1 2.8 4.7 1.2]\n",
            " [6.4 2.9 4.3 1.3]\n",
            " [6.6 3.  4.4 1.4]\n",
            " [6.8 2.8 4.8 1.4]\n",
            " [6.7 3.  5.  1.7]\n",
            " [6.  2.9 4.5 1.5]\n",
            " [5.7 2.6 3.5 1. ]\n",
            " [5.5 2.4 3.8 1.1]\n",
            " [5.5 2.4 3.7 1. ]\n",
            " [5.8 2.7 3.9 1.2]\n",
            " [6.  2.7 5.1 1.6]\n",
            " [5.4 3.  4.5 1.5]\n",
            " [6.  3.4 4.5 1.6]\n",
            " [6.7 3.1 4.7 1.5]\n",
            " [6.3 2.3 4.4 1.3]\n",
            " [5.6 3.  4.1 1.3]\n",
            " [5.5 2.5 4.  1.3]\n",
            " [5.5 2.6 4.4 1.2]\n",
            " [6.1 3.  4.6 1.4]\n",
            " [5.8 2.6 4.  1.2]\n",
            " [5.  2.3 3.3 1. ]\n",
            " [5.6 2.7 4.2 1.3]\n",
            " [5.7 3.  4.2 1.2]\n",
            " [5.7 2.9 4.2 1.3]\n",
            " [6.2 2.9 4.3 1.3]\n",
            " [5.1 2.5 3.  1.1]\n",
            " [5.7 2.8 4.1 1.3]\n",
            " [6.3 3.3 6.  2.5]\n",
            " [5.8 2.7 5.1 1.9]\n",
            " [7.1 3.  5.9 2.1]\n",
            " [6.3 2.9 5.6 1.8]\n",
            " [6.5 3.  5.8 2.2]\n",
            " [7.6 3.  6.6 2.1]\n",
            " [4.9 2.5 4.5 1.7]\n",
            " [7.3 2.9 6.3 1.8]\n",
            " [6.7 2.5 5.8 1.8]\n",
            " [7.2 3.6 6.1 2.5]\n",
            " [6.5 3.2 5.1 2. ]\n",
            " [6.4 2.7 5.3 1.9]\n",
            " [6.8 3.  5.5 2.1]\n",
            " [5.7 2.5 5.  2. ]\n",
            " [5.8 2.8 5.1 2.4]\n",
            " [6.4 3.2 5.3 2.3]\n",
            " [6.5 3.  5.5 1.8]\n",
            " [7.7 3.8 6.7 2.2]\n",
            " [7.7 2.6 6.9 2.3]\n",
            " [6.  2.2 5.  1.5]\n",
            " [6.9 3.2 5.7 2.3]\n",
            " [5.6 2.8 4.9 2. ]\n",
            " [7.7 2.8 6.7 2. ]\n",
            " [6.3 2.7 4.9 1.8]\n",
            " [6.7 3.3 5.7 2.1]\n",
            " [7.2 3.2 6.  1.8]\n",
            " [6.2 2.8 4.8 1.8]\n",
            " [6.1 3.  4.9 1.8]\n",
            " [6.4 2.8 5.6 2.1]\n",
            " [7.2 3.  5.8 1.6]\n",
            " [7.4 2.8 6.1 1.9]\n",
            " [7.9 3.8 6.4 2. ]\n",
            " [6.4 2.8 5.6 2.2]\n",
            " [6.3 2.8 5.1 1.5]\n",
            " [6.1 2.6 5.6 1.4]\n",
            " [7.7 3.  6.1 2.3]\n",
            " [6.3 3.4 5.6 2.4]\n",
            " [6.4 3.1 5.5 1.8]\n",
            " [6.  3.  4.8 1.8]\n",
            " [6.9 3.1 5.4 2.1]\n",
            " [6.7 3.1 5.6 2.4]\n",
            " [6.9 3.1 5.1 2.3]\n",
            " [5.8 2.7 5.1 1.9]\n",
            " [6.8 3.2 5.9 2.3]\n",
            " [6.7 3.3 5.7 2.5]\n",
            " [6.7 3.  5.2 2.3]\n",
            " [6.3 2.5 5.  1.9]\n",
            " [6.5 3.  5.2 2. ]\n",
            " [6.2 3.4 5.4 2.3]\n",
            " [5.9 3.  5.1 1.8]]\n"
          ]
        }
      ]
    },
    {
      "cell_type": "code",
      "metadata": {
        "colab": {
          "base_uri": "https://localhost:8080/"
        },
        "id": "TR-nI1s_dwM_",
        "outputId": "da50b38f-5982-4d95-aba7-e56d08521c3e"
      },
      "source": [
        "len(x)"
      ],
      "execution_count": 38,
      "outputs": [
        {
          "output_type": "execute_result",
          "data": {
            "text/plain": [
              "150"
            ]
          },
          "metadata": {},
          "execution_count": 38
        }
      ]
    },
    {
      "cell_type": "code",
      "metadata": {
        "colab": {
          "base_uri": "https://localhost:8080/"
        },
        "id": "GwN3kzT9dzp0",
        "outputId": "b826f047-d329-45c5-80a3-6196a820195b"
      },
      "source": [
        "print(y)"
      ],
      "execution_count": 39,
      "outputs": [
        {
          "output_type": "stream",
          "name": "stdout",
          "text": [
            "['setosa' 'setosa' 'setosa' 'setosa' 'setosa' 'setosa' 'setosa' 'setosa'\n",
            " 'setosa' 'setosa' 'setosa' 'setosa' 'setosa' 'setosa' 'setosa' 'setosa'\n",
            " 'setosa' 'setosa' 'setosa' 'setosa' 'setosa' 'setosa' 'setosa' 'setosa'\n",
            " 'setosa' 'setosa' 'setosa' 'setosa' 'setosa' 'setosa' 'setosa' 'setosa'\n",
            " 'setosa' 'setosa' 'setosa' 'setosa' 'setosa' 'setosa' 'setosa' 'setosa'\n",
            " 'setosa' 'setosa' 'setosa' 'setosa' 'setosa' 'setosa' 'setosa' 'setosa'\n",
            " 'setosa' 'setosa' 'versicolor' 'versicolor' 'versicolor' 'versicolor'\n",
            " 'versicolor' 'versicolor' 'versicolor' 'versicolor' 'versicolor'\n",
            " 'versicolor' 'versicolor' 'versicolor' 'versicolor' 'versicolor'\n",
            " 'versicolor' 'versicolor' 'versicolor' 'versicolor' 'versicolor'\n",
            " 'versicolor' 'versicolor' 'versicolor' 'versicolor' 'versicolor'\n",
            " 'versicolor' 'versicolor' 'versicolor' 'versicolor' 'versicolor'\n",
            " 'versicolor' 'versicolor' 'versicolor' 'versicolor' 'versicolor'\n",
            " 'versicolor' 'versicolor' 'versicolor' 'versicolor' 'versicolor'\n",
            " 'versicolor' 'versicolor' 'versicolor' 'versicolor' 'versicolor'\n",
            " 'versicolor' 'versicolor' 'versicolor' 'versicolor' 'versicolor'\n",
            " 'versicolor' 'virginica' 'virginica' 'virginica' 'virginica' 'virginica'\n",
            " 'virginica' 'virginica' 'virginica' 'virginica' 'virginica' 'virginica'\n",
            " 'virginica' 'virginica' 'virginica' 'virginica' 'virginica' 'virginica'\n",
            " 'virginica' 'virginica' 'virginica' 'virginica' 'virginica' 'virginica'\n",
            " 'virginica' 'virginica' 'virginica' 'virginica' 'virginica' 'virginica'\n",
            " 'virginica' 'virginica' 'virginica' 'virginica' 'virginica' 'virginica'\n",
            " 'virginica' 'virginica' 'virginica' 'virginica' 'virginica' 'virginica'\n",
            " 'virginica' 'virginica' 'virginica' 'virginica' 'virginica' 'virginica'\n",
            " 'virginica' 'virginica' 'virginica']\n"
          ]
        }
      ]
    },
    {
      "cell_type": "code",
      "metadata": {
        "colab": {
          "base_uri": "https://localhost:8080/"
        },
        "id": "TjHDTz8Sd2UP",
        "outputId": "cf76dd36-ddde-4548-a91a-3ce6031bf45e"
      },
      "source": [
        "len(y)"
      ],
      "execution_count": 40,
      "outputs": [
        {
          "output_type": "execute_result",
          "data": {
            "text/plain": [
              "150"
            ]
          },
          "metadata": {},
          "execution_count": 40
        }
      ]
    },
    {
      "cell_type": "code",
      "metadata": {
        "id": "D_kCN4zPd7W7"
      },
      "source": [
        "#Encoding the categorical dependent variable\n",
        "from sklearn.preprocessing import LabelEncoder\n",
        "l_encode = LabelEncoder()\n",
        "y = l_encode.fit_transform(y)"
      ],
      "execution_count": 41,
      "outputs": []
    },
    {
      "cell_type": "code",
      "metadata": {
        "colab": {
          "base_uri": "https://localhost:8080/"
        },
        "id": "X9VVbbw6ePJB",
        "outputId": "195caf8d-5630-4c9a-ee7b-acd626070401"
      },
      "source": [
        "print(y)"
      ],
      "execution_count": 42,
      "outputs": [
        {
          "output_type": "stream",
          "name": "stdout",
          "text": [
            "[0 0 0 0 0 0 0 0 0 0 0 0 0 0 0 0 0 0 0 0 0 0 0 0 0 0 0 0 0 0 0 0 0 0 0 0 0\n",
            " 0 0 0 0 0 0 0 0 0 0 0 0 0 1 1 1 1 1 1 1 1 1 1 1 1 1 1 1 1 1 1 1 1 1 1 1 1\n",
            " 1 1 1 1 1 1 1 1 1 1 1 1 1 1 1 1 1 1 1 1 1 1 1 1 1 1 2 2 2 2 2 2 2 2 2 2 2\n",
            " 2 2 2 2 2 2 2 2 2 2 2 2 2 2 2 2 2 2 2 2 2 2 2 2 2 2 2 2 2 2 2 2 2 2 2 2 2\n",
            " 2 2]\n"
          ]
        }
      ]
    },
    {
      "cell_type": "code",
      "metadata": {
        "colab": {
          "base_uri": "https://localhost:8080/"
        },
        "id": "UcKS7Wa8edHf",
        "outputId": "b2e5e121-420c-4efd-9f00-b41e15710837"
      },
      "source": [
        "len(y)"
      ],
      "execution_count": 43,
      "outputs": [
        {
          "output_type": "execute_result",
          "data": {
            "text/plain": [
              "150"
            ]
          },
          "metadata": {},
          "execution_count": 43
        }
      ]
    },
    {
      "cell_type": "code",
      "metadata": {
        "id": "ZuwfBWRpefE7"
      },
      "source": [
        "#Splitting the train and test set\n",
        "from sklearn.model_selection import train_test_split\n",
        "x_train, x_test, y_train, y_test = train_test_split(x, y, test_size = 0.2, random_state = 21)"
      ],
      "execution_count": 44,
      "outputs": []
    },
    {
      "cell_type": "code",
      "metadata": {
        "colab": {
          "base_uri": "https://localhost:8080/"
        },
        "id": "7H3siIlRextx",
        "outputId": "4f5d8e3b-fe76-4118-b458-5bf3a2f7482f"
      },
      "source": [
        "print(x_train)"
      ],
      "execution_count": 45,
      "outputs": [
        {
          "output_type": "stream",
          "name": "stdout",
          "text": [
            "[[4.5 2.3 1.3 0.3]\n",
            " [7.9 3.8 6.4 2. ]\n",
            " [5.9 3.2 4.8 1.8]\n",
            " [5.1 3.8 1.6 0.2]\n",
            " [6.2 2.8 4.8 1.8]\n",
            " [6.5 2.8 4.6 1.5]\n",
            " [6.  3.4 4.5 1.6]\n",
            " [5.8 2.8 5.1 2.4]\n",
            " [4.4 3.  1.3 0.2]\n",
            " [5.8 2.7 5.1 1.9]\n",
            " [5.9 3.  5.1 1.8]\n",
            " [6.3 3.4 5.6 2.4]\n",
            " [5.7 2.5 5.  2. ]\n",
            " [6.2 2.9 4.3 1.3]\n",
            " [6.9 3.1 5.1 2.3]\n",
            " [5.5 3.5 1.3 0.2]\n",
            " [4.9 3.1 1.5 0.1]\n",
            " [4.3 3.  1.1 0.1]\n",
            " [6.2 2.2 4.5 1.5]\n",
            " [4.8 3.4 1.6 0.2]\n",
            " [6.9 3.1 4.9 1.5]\n",
            " [5.  3.3 1.4 0.2]\n",
            " [6.7 3.1 4.4 1.4]\n",
            " [7.7 2.6 6.9 2.3]\n",
            " [5.7 2.8 4.5 1.3]\n",
            " [5.8 2.7 4.1 1. ]\n",
            " [4.6 3.1 1.5 0.2]\n",
            " [5.1 3.5 1.4 0.3]\n",
            " [7.7 3.  6.1 2.3]\n",
            " [4.7 3.2 1.6 0.2]\n",
            " [5.4 3.7 1.5 0.2]\n",
            " [4.6 3.6 1.  0.2]\n",
            " [4.7 3.2 1.3 0.2]\n",
            " [5.4 3.4 1.5 0.4]\n",
            " [5.7 2.9 4.2 1.3]\n",
            " [5.5 2.5 4.  1.3]\n",
            " [5.2 3.5 1.5 0.2]\n",
            " [6.7 2.5 5.8 1.8]\n",
            " [6.4 3.2 4.5 1.5]\n",
            " [4.9 3.  1.4 0.2]\n",
            " [5.4 3.9 1.3 0.4]\n",
            " [4.9 2.5 4.5 1.7]\n",
            " [6.7 3.1 4.7 1.5]\n",
            " [4.9 3.1 1.5 0.1]\n",
            " [6.5 3.  5.8 2.2]\n",
            " [5.  2.3 3.3 1. ]\n",
            " [6.1 2.6 5.6 1.4]\n",
            " [5.  3.5 1.6 0.6]\n",
            " [6.4 2.7 5.3 1.9]\n",
            " [5.1 3.4 1.5 0.2]\n",
            " [4.6 3.2 1.4 0.2]\n",
            " [6.  2.9 4.5 1.5]\n",
            " [6.5 3.  5.5 1.8]\n",
            " [5.6 2.9 3.6 1.3]\n",
            " [5.6 2.7 4.2 1.3]\n",
            " [4.8 3.4 1.9 0.2]\n",
            " [6.4 2.8 5.6 2.2]\n",
            " [6.6 2.9 4.6 1.3]\n",
            " [4.4 2.9 1.4 0.2]\n",
            " [6.1 3.  4.9 1.8]\n",
            " [6.1 2.8 4.  1.3]\n",
            " [5.6 3.  4.5 1.5]\n",
            " [7.4 2.8 6.1 1.9]\n",
            " [5.7 2.6 3.5 1. ]\n",
            " [7.6 3.  6.6 2.1]\n",
            " [6.1 2.9 4.7 1.4]\n",
            " [6.7 3.3 5.7 2.5]\n",
            " [6.4 3.2 5.3 2.3]\n",
            " [5.2 4.1 1.5 0.1]\n",
            " [5.  3.  1.6 0.2]\n",
            " [6.3 2.9 5.6 1.8]\n",
            " [7.1 3.  5.9 2.1]\n",
            " [4.8 3.1 1.6 0.2]\n",
            " [6.8 2.8 4.8 1.4]\n",
            " [6.2 3.4 5.4 2.3]\n",
            " [5.7 2.8 4.1 1.3]\n",
            " [4.9 2.4 3.3 1. ]\n",
            " [7.3 2.9 6.3 1.8]\n",
            " [5.6 2.5 3.9 1.1]\n",
            " [7.2 3.  5.8 1.6]\n",
            " [5.1 3.5 1.4 0.2]\n",
            " [7.2 3.6 6.1 2.5]\n",
            " [6.4 2.8 5.6 2.1]\n",
            " [4.9 3.1 1.5 0.1]\n",
            " [5.2 3.4 1.4 0.2]\n",
            " [5.5 2.6 4.4 1.2]\n",
            " [6.4 3.1 5.5 1.8]\n",
            " [4.6 3.4 1.4 0.3]\n",
            " [5.7 4.4 1.5 0.4]\n",
            " [5.8 2.7 3.9 1.2]\n",
            " [7.2 3.2 6.  1.8]\n",
            " [4.8 3.  1.4 0.1]\n",
            " [5.5 4.2 1.4 0.2]\n",
            " [6.1 3.  4.6 1.4]\n",
            " [6.7 3.  5.2 2.3]\n",
            " [6.3 2.5 5.  1.9]\n",
            " [5.  3.2 1.2 0.2]\n",
            " [6.7 3.1 5.6 2.4]\n",
            " [5.5 2.4 3.8 1.1]\n",
            " [5.4 3.9 1.7 0.4]\n",
            " [5.5 2.3 4.  1.3]\n",
            " [6.9 3.1 5.4 2.1]\n",
            " [7.  3.2 4.7 1.4]\n",
            " [5.7 3.8 1.7 0.3]\n",
            " [6.3 2.8 5.1 1.5]\n",
            " [6.  2.2 5.  1.5]\n",
            " [5.2 2.7 3.9 1.4]\n",
            " [5.4 3.  4.5 1.5]\n",
            " [6.3 3.3 6.  2.5]\n",
            " [6.5 3.  5.2 2. ]\n",
            " [7.7 2.8 6.7 2. ]\n",
            " [5.9 3.  4.2 1.5]\n",
            " [6.5 3.2 5.1 2. ]\n",
            " [6.3 2.5 4.9 1.5]\n",
            " [5.1 2.5 3.  1.1]\n",
            " [6.9 3.2 5.7 2.3]\n",
            " [6.8 3.  5.5 2.1]\n",
            " [5.3 3.7 1.5 0.2]\n",
            " [5.  3.6 1.4 0.2]\n",
            " [6.3 3.3 4.7 1.6]]\n"
          ]
        }
      ]
    },
    {
      "cell_type": "code",
      "metadata": {
        "colab": {
          "base_uri": "https://localhost:8080/"
        },
        "id": "YzS8L-w-e2Rk",
        "outputId": "d0255398-eb52-4091-a368-fbbaed26f169"
      },
      "source": [
        "len(x_train)"
      ],
      "execution_count": 46,
      "outputs": [
        {
          "output_type": "execute_result",
          "data": {
            "text/plain": [
              "120"
            ]
          },
          "metadata": {},
          "execution_count": 46
        }
      ]
    },
    {
      "cell_type": "code",
      "metadata": {
        "colab": {
          "base_uri": "https://localhost:8080/"
        },
        "id": "DpT6odfBe45H",
        "outputId": "1911fcc1-93b2-41b5-cf3d-ff5e7165d1fd"
      },
      "source": [
        "print(x_test)"
      ],
      "execution_count": 47,
      "outputs": [
        {
          "output_type": "stream",
          "name": "stdout",
          "text": [
            "[[5.8 2.6 4.  1.2]\n",
            " [5.1 3.8 1.9 0.4]\n",
            " [5.  3.4 1.5 0.2]\n",
            " [5.1 3.7 1.5 0.4]\n",
            " [5.7 3.  4.2 1.2]\n",
            " [6.6 3.  4.4 1.4]\n",
            " [5.4 3.4 1.7 0.2]\n",
            " [5.6 2.8 4.9 2. ]\n",
            " [5.  3.4 1.6 0.4]\n",
            " [5.1 3.8 1.5 0.3]\n",
            " [5.5 2.4 3.7 1. ]\n",
            " [5.6 3.  4.1 1.3]\n",
            " [6.8 3.2 5.9 2.3]\n",
            " [7.7 3.8 6.7 2.2]\n",
            " [5.1 3.3 1.7 0.5]\n",
            " [6.7 3.  5.  1.7]\n",
            " [6.  3.  4.8 1.8]\n",
            " [6.1 2.8 4.7 1.2]\n",
            " [5.8 4.  1.2 0.2]\n",
            " [5.8 2.7 5.1 1.9]\n",
            " [6.3 2.7 4.9 1.8]\n",
            " [6.  2.2 4.  1. ]\n",
            " [6.  2.7 5.1 1.6]\n",
            " [6.4 2.9 4.3 1.3]\n",
            " [4.4 3.2 1.3 0.2]\n",
            " [5.  2.  3.5 1. ]\n",
            " [5.  3.5 1.3 0.3]\n",
            " [4.8 3.  1.4 0.3]\n",
            " [6.3 2.3 4.4 1.3]\n",
            " [6.7 3.3 5.7 2.1]]\n"
          ]
        }
      ]
    },
    {
      "cell_type": "code",
      "metadata": {
        "colab": {
          "base_uri": "https://localhost:8080/"
        },
        "id": "PP_N1ZZne7fH",
        "outputId": "a0d6cc77-98bd-4dfd-aacb-cef3f8495431"
      },
      "source": [
        "len(x_test)"
      ],
      "execution_count": 48,
      "outputs": [
        {
          "output_type": "execute_result",
          "data": {
            "text/plain": [
              "30"
            ]
          },
          "metadata": {},
          "execution_count": 48
        }
      ]
    },
    {
      "cell_type": "code",
      "metadata": {
        "colab": {
          "base_uri": "https://localhost:8080/"
        },
        "id": "MFjo6sPqfBNX",
        "outputId": "e806bfdf-0d11-41c6-d8e0-9e8264c6ba7a"
      },
      "source": [
        "print(y_train)"
      ],
      "execution_count": 49,
      "outputs": [
        {
          "output_type": "stream",
          "name": "stdout",
          "text": [
            "[0 2 1 0 2 1 1 2 0 2 2 2 2 1 2 0 0 0 1 0 1 0 1 2 1 1 0 0 2 0 0 0 0 0 1 1 0\n",
            " 2 1 0 0 2 1 0 2 1 2 0 2 0 0 1 2 1 1 0 2 1 0 2 1 1 2 1 2 1 2 2 0 0 2 2 0 1\n",
            " 2 1 1 2 1 2 0 2 2 0 0 1 2 0 0 1 2 0 0 1 2 2 0 2 1 0 1 2 1 0 2 2 1 1 2 2 2\n",
            " 1 2 1 1 2 2 0 0 1]\n"
          ]
        }
      ]
    },
    {
      "cell_type": "code",
      "metadata": {
        "colab": {
          "base_uri": "https://localhost:8080/"
        },
        "id": "MN86UYzCfF9W",
        "outputId": "ad1abf75-bf15-402d-f2e8-8391274625e2"
      },
      "source": [
        "len(y_train)"
      ],
      "execution_count": 50,
      "outputs": [
        {
          "output_type": "execute_result",
          "data": {
            "text/plain": [
              "120"
            ]
          },
          "metadata": {},
          "execution_count": 50
        }
      ]
    },
    {
      "cell_type": "code",
      "metadata": {
        "colab": {
          "base_uri": "https://localhost:8080/"
        },
        "id": "Q-vT9VSPfOWa",
        "outputId": "fb9d4ecd-f9c2-4782-dc4a-99d9dbd3f609"
      },
      "source": [
        "print(y_test)"
      ],
      "execution_count": 51,
      "outputs": [
        {
          "output_type": "stream",
          "name": "stdout",
          "text": [
            "[1 0 0 0 1 1 0 2 0 0 1 1 2 2 0 1 2 1 0 2 2 1 1 1 0 1 0 0 1 2]\n"
          ]
        }
      ]
    },
    {
      "cell_type": "code",
      "metadata": {
        "colab": {
          "base_uri": "https://localhost:8080/"
        },
        "id": "ai9_52Z6fQ68",
        "outputId": "65369d63-6661-4e01-d94a-815f41e2be42"
      },
      "source": [
        "len(y_test)"
      ],
      "execution_count": 52,
      "outputs": [
        {
          "output_type": "execute_result",
          "data": {
            "text/plain": [
              "30"
            ]
          },
          "metadata": {},
          "execution_count": 52
        }
      ]
    },
    {
      "cell_type": "code",
      "metadata": {
        "id": "l6_zA2P6bu_P"
      },
      "source": [
        "#Para Naive Bayes Classifier\n",
        "from sklearn.naive_bayes import MultinomialNB\n",
        "mnb = MultinomialNB(fit_prior=False)"
      ],
      "execution_count": 53,
      "outputs": []
    },
    {
      "cell_type": "code",
      "metadata": {
        "colab": {
          "base_uri": "https://localhost:8080/"
        },
        "id": "XfwgfRmNcREk",
        "outputId": "ec41ddf9-0a95-426b-fe1c-dd131863a498"
      },
      "source": [
        "#Para entrenar este clasificador de Bayes\n",
        "mnb.fit(x_train, y_train)"
      ],
      "execution_count": 54,
      "outputs": [
        {
          "output_type": "execute_result",
          "data": {
            "text/plain": [
              "MultinomialNB(alpha=1.0, class_prior=None, fit_prior=False)"
            ]
          },
          "metadata": {},
          "execution_count": 54
        }
      ]
    },
    {
      "cell_type": "code",
      "metadata": {
        "colab": {
          "base_uri": "https://localhost:8080/"
        },
        "id": "-rTsHf1VccAn",
        "outputId": "fab89f1a-4d20-4cd3-b8d1-8d848bae2897"
      },
      "source": [
        "#Para test result\n",
        "y_pred = mnb.predict(x_test)\n",
        "print(y_pred)"
      ],
      "execution_count": 55,
      "outputs": [
        {
          "output_type": "stream",
          "name": "stdout",
          "text": [
            "[1 0 0 0 1 1 0 2 0 0 1 1 2 2 0 1 2 1 0 2 2 1 2 1 0 1 0 0 1 2]\n"
          ]
        }
      ]
    },
    {
      "cell_type": "code",
      "metadata": {
        "colab": {
          "base_uri": "https://localhost:8080/"
        },
        "id": "3oOe4OItfr_G",
        "outputId": "fbed2619-4e67-466a-908c-f1d4875054ad"
      },
      "source": [
        "y_pred_vertical = y_pred.reshape(len(y_pred),1)\n",
        "print(y_pred_vertical)"
      ],
      "execution_count": 56,
      "outputs": [
        {
          "output_type": "stream",
          "name": "stdout",
          "text": [
            "[[1]\n",
            " [0]\n",
            " [0]\n",
            " [0]\n",
            " [1]\n",
            " [1]\n",
            " [0]\n",
            " [2]\n",
            " [0]\n",
            " [0]\n",
            " [1]\n",
            " [1]\n",
            " [2]\n",
            " [2]\n",
            " [0]\n",
            " [1]\n",
            " [2]\n",
            " [1]\n",
            " [0]\n",
            " [2]\n",
            " [2]\n",
            " [1]\n",
            " [2]\n",
            " [1]\n",
            " [0]\n",
            " [1]\n",
            " [0]\n",
            " [0]\n",
            " [1]\n",
            " [2]]\n"
          ]
        }
      ]
    },
    {
      "cell_type": "code",
      "metadata": {
        "colab": {
          "base_uri": "https://localhost:8080/"
        },
        "id": "kVD14m76f3bl",
        "outputId": "629886c3-f79b-42f2-c124-3c8490abc56f"
      },
      "source": [
        "y_true_vertical = y_test.reshape(len(y_test),1)\n",
        "print(y_true_vertical)"
      ],
      "execution_count": 57,
      "outputs": [
        {
          "output_type": "stream",
          "name": "stdout",
          "text": [
            "[[1]\n",
            " [0]\n",
            " [0]\n",
            " [0]\n",
            " [1]\n",
            " [1]\n",
            " [0]\n",
            " [2]\n",
            " [0]\n",
            " [0]\n",
            " [1]\n",
            " [1]\n",
            " [2]\n",
            " [2]\n",
            " [0]\n",
            " [1]\n",
            " [2]\n",
            " [1]\n",
            " [0]\n",
            " [2]\n",
            " [2]\n",
            " [1]\n",
            " [1]\n",
            " [1]\n",
            " [0]\n",
            " [1]\n",
            " [0]\n",
            " [0]\n",
            " [1]\n",
            " [2]]\n"
          ]
        }
      ]
    },
    {
      "cell_type": "code",
      "metadata": {
        "colab": {
          "base_uri": "https://localhost:8080/"
        },
        "id": "QBa0ABcdgDN1",
        "outputId": "0bd7c77c-0e61-4fe3-9625-655ba78b7a6a"
      },
      "source": [
        "true_pred = np.concatenate((y_true_vertical, y_pred_vertical), axis = 1)\n",
        "print(true_pred)"
      ],
      "execution_count": 58,
      "outputs": [
        {
          "output_type": "stream",
          "name": "stdout",
          "text": [
            "[[1 1]\n",
            " [0 0]\n",
            " [0 0]\n",
            " [0 0]\n",
            " [1 1]\n",
            " [1 1]\n",
            " [0 0]\n",
            " [2 2]\n",
            " [0 0]\n",
            " [0 0]\n",
            " [1 1]\n",
            " [1 1]\n",
            " [2 2]\n",
            " [2 2]\n",
            " [0 0]\n",
            " [1 1]\n",
            " [2 2]\n",
            " [1 1]\n",
            " [0 0]\n",
            " [2 2]\n",
            " [2 2]\n",
            " [1 1]\n",
            " [1 2]\n",
            " [1 1]\n",
            " [0 0]\n",
            " [1 1]\n",
            " [0 0]\n",
            " [0 0]\n",
            " [1 1]\n",
            " [2 2]]\n"
          ]
        }
      ]
    },
    {
      "cell_type": "code",
      "metadata": {
        "colab": {
          "base_uri": "https://localhost:8080/",
          "height": 295
        },
        "id": "WiLm4M7LgQAO",
        "outputId": "6acae43e-009e-4b69-f8ca-0c22075c3d50"
      },
      "source": [
        "#Plotting the confusion matrix\n",
        "from sklearn.metrics import confusion_matrix\n",
        "confusion_mat = confusion_matrix(y_test, y_pred)\n",
        "sns.heatmap(confusion_mat, annot= True)\n",
        "plt.xlabel(\"Resultados predichos\")\n",
        "plt.ylabel(\"Resultados verdaderos\")\n",
        "plt.title(\"Matriz de confusión\")\n",
        "plt.show()"
      ],
      "execution_count": 59,
      "outputs": [
        {
          "output_type": "display_data",
          "data": {
            "image/png": "[encoded data removed]",
            "text/plain": [
              "<Figure size 432x288 with 2 Axes>"
            ]
          },
          "metadata": {
            "needs_background": "light"
          }
        }
      ]
    },
    {
      "cell_type": "code",
      "metadata": {
        "colab": {
          "base_uri": "https://localhost:8080/"
        },
        "id": "h-JdHxeAiE4s",
        "outputId": "114105e1-4d4a-4435-d279-ec34b5254cb7"
      },
      "source": [
        "#Precisión del clasificador de Bayes para este caso\n",
        "from sklearn.metrics import accuracy_score\n",
        "accuracy_score(y_test, y_pred)"
      ],
      "execution_count": 60,
      "outputs": [
        {
          "output_type": "execute_result",
          "data": {
            "text/plain": [
              "0.9666666666666667"
            ]
          },
          "metadata": {},
          "execution_count": 60
        }
      ]
    },
    {
      "cell_type": "code",
      "metadata": {
        "colab": {
          "base_uri": "https://localhost:8080/"
        },
        "id": "CU-1_BEb3KVx",
        "outputId": "225fd231-230e-46fe-c6a9-14601bacbd21"
      },
      "source": [
        "#Hallazgo MCC\n",
        "from sklearn.metrics import matthews_corrcoef\n",
        "matthews_corrcoef(y_test, y_pred)"
      ],
      "execution_count": 62,
      "outputs": [
        {
          "output_type": "execute_result",
          "data": {
            "text/plain": [
              "0.9508693106633108"
            ]
          },
          "metadata": {},
          "execution_count": 62
        }
      ]
    },
    {
      "cell_type": "code",
      "metadata": {
        "colab": {
          "base_uri": "https://localhost:8080/"
        },
        "id": "H7KmFNDg3cP4",
        "outputId": "2456ff02-443f-4c29-cf51-e6ad0b6528fd"
      },
      "source": [
        "#Hallazgo F1\n",
        "from sklearn.metrics import f1_score\n",
        "print(f1_score(y_test, y_pred, average= 'weighted'))\n",
        "print(f1_score(y_test, y_pred, average= 'macro'))\n",
        "print(f1_score(y_test, y_pred, average= 'micro'))"
      ],
      "execution_count": 63,
      "outputs": [
        {
          "output_type": "stream",
          "name": "stdout",
          "text": [
            "0.9670531400966184\n",
            "0.9632850241545894\n",
            "0.9666666666666667\n"
          ]
        }
      ]
    },
    {
      "cell_type": "code",
      "metadata": {
        "colab": {
          "base_uri": "https://localhost:8080/"
        },
        "id": "ILI8cmc43fNV",
        "outputId": "f3afa492-3786-4324-f1ca-bdfb0ab8fe03"
      },
      "source": [
        "#Comparar\n",
        "from sklearn.metrics import classification_report\n",
        "print(classification_report(y_test, y_pred))"
      ],
      "execution_count": 64,
      "outputs": [
        {
          "output_type": "stream",
          "name": "stdout",
          "text": [
            "              precision    recall  f1-score   support\n",
            "\n",
            "           0       1.00      1.00      1.00        11\n",
            "           1       1.00      0.92      0.96        12\n",
            "           2       0.88      1.00      0.93         7\n",
            "\n",
            "    accuracy                           0.97        30\n",
            "   macro avg       0.96      0.97      0.96        30\n",
            "weighted avg       0.97      0.97      0.97        30\n",
            "\n"
          ]
        }
      ]
    },
    {
      "cell_type": "code",
      "metadata": {
        "colab": {
          "base_uri": "https://localhost:8080/"
        },
        "id": "fltrUDlbcovD",
        "outputId": "3278ab6c-ac13-4b81-baa8-d778f06e6ac5"
      },
      "source": [
        "#Para evaluar este clasificador con nuevos datos\n",
        "prediction = mnb.predict([[5,3,1.6,0.2]])\n",
        "print(prediction)"
      ],
      "execution_count": 65,
      "outputs": [
        {
          "output_type": "stream",
          "name": "stdout",
          "text": [
            "[0]\n"
          ]
        }
      ]
    }
  ]
}