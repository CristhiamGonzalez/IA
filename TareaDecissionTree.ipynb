{
  "nbformat": 4,
  "nbformat_minor": 0,
  "metadata": {
    "colab": {
      "name": "TareaDecissionTree.ipynb",
      "provenance": [],
      "authorship_tag": "ABX9TyOZzld1vCFhW5Z88Ox4z7cA",
      "include_colab_link": true
    },
    "kernelspec": {
      "name": "python3",
      "display_name": "Python 3"
    },
    "language_info": {
      "name": "python"
    }
  },
  "cells": [
    {
      "cell_type": "markdown",
      "metadata": {
        "id": "view-in-github",
        "colab_type": "text"
      },
      "source": [
        "<a href=\"https://colab.research.google.com/github/CristhiamGonzalez/IA/blob/main/TareaDecissionTree.ipynb\" target=\"_parent\"><img src=\"https://colab.research.google.com/assets/colab-badge.svg\" alt=\"Open In Colab\"/></a>"
      ]
    },
    {
      "cell_type": "code",
      "metadata": {
        "id": "UHPN0Dvei88g"
      },
      "source": [
        "#Importamos las librerias\n",
        "import numpy as np # linear algebra\n",
        "import pandas as pd # data processing, CSV file I/O (e.g. pd.read_csv)\n",
        "import matplotlib.pyplot as plt\n",
        "import seaborn as sns"
      ],
      "execution_count": 1,
      "outputs": []
    },
    {
      "cell_type": "code",
      "metadata": {
        "id": "7LfJTlspkclK"
      },
      "source": [
        "#Importamos el dataset\n",
        "data = pd.read_csv(\"Iris.csv\")\n",
        "x = data.iloc[:, :-1].values\n",
        "y = data.iloc[:, -1].values"
      ],
      "execution_count": 3,
      "outputs": []
    },
    {
      "cell_type": "code",
      "metadata": {
        "id": "_mlj8Lr2kn32"
      },
      "source": [
        "#Encoding the categorical dependent variable\n",
        "from sklearn.preprocessing import LabelEncoder\n",
        "l_encode = LabelEncoder()\n",
        "y = l_encode.fit_transform(y)"
      ],
      "execution_count": 4,
      "outputs": []
    },
    {
      "cell_type": "code",
      "metadata": {
        "id": "KRSZyQLQkwwc"
      },
      "source": [
        "#Splitting the train and test set\n",
        "from sklearn.model_selection import train_test_split\n",
        "x_train, x_test, y_train, y_test = train_test_split(x, y, test_size = 0.2, random_state = 21)"
      ],
      "execution_count": 5,
      "outputs": []
    },
    {
      "cell_type": "code",
      "metadata": {
        "id": "24dnuuPglNnW"
      },
      "source": [
        "#Para un Decission Tree\n",
        "from sklearn.tree import DecisionTreeClassifier\n",
        "dtc = DecisionTreeClassifier(criterion = \"entropy\", random_state = 21)"
      ],
      "execution_count": 6,
      "outputs": []
    },
    {
      "cell_type": "code",
      "metadata": {
        "colab": {
          "base_uri": "https://localhost:8080/"
        },
        "id": "F8pbn8FsmJsz",
        "outputId": "88a100b2-4b23-4be4-b76a-0d5c744af640"
      },
      "source": [
        "#Entrenamos el clasificador de Decission Tree\n",
        "dtc.fit(x_train, y_train)"
      ],
      "execution_count": 7,
      "outputs": [
        {
          "output_type": "execute_result",
          "data": {
            "text/plain": [
              "DecisionTreeClassifier(ccp_alpha=0.0, class_weight=None, criterion='entropy',\n",
              "                       max_depth=None, max_features=None, max_leaf_nodes=None,\n",
              "                       min_impurity_decrease=0.0, min_impurity_split=None,\n",
              "                       min_samples_leaf=1, min_samples_split=2,\n",
              "                       min_weight_fraction_leaf=0.0, presort='deprecated',\n",
              "                       random_state=21, splitter='best')"
            ]
          },
          "metadata": {},
          "execution_count": 7
        }
      ]
    },
    {
      "cell_type": "code",
      "metadata": {
        "colab": {
          "base_uri": "https://localhost:8080/"
        },
        "id": "Avlf9CB_mWrh",
        "outputId": "3c5ece6d-dfe0-4568-d267-0b90079558aa"
      },
      "source": [
        "#Para predecir el test result\n",
        "y_pred = dtc.predict(x_test)\n",
        "print(y_pred)"
      ],
      "execution_count": 8,
      "outputs": [
        {
          "output_type": "stream",
          "name": "stdout",
          "text": [
            "[1 0 0 0 1 1 0 2 0 0 1 1 2 2 0 2 2 1 0 2 2 1 2 1 0 1 0 0 1 2]\n"
          ]
        }
      ]
    },
    {
      "cell_type": "code",
      "metadata": {
        "colab": {
          "base_uri": "https://localhost:8080/"
        },
        "id": "uZMsd_TDmeNS",
        "outputId": "ac213b2d-cc0d-45f2-b05d-e0988c48ead9"
      },
      "source": [
        "y_pred_vertical = y_pred.reshape(len(y_pred), 1)\n",
        "print (y_pred_vertical)"
      ],
      "execution_count": 9,
      "outputs": [
        {
          "output_type": "stream",
          "name": "stdout",
          "text": [
            "[[1]\n",
            " [0]\n",
            " [0]\n",
            " [0]\n",
            " [1]\n",
            " [1]\n",
            " [0]\n",
            " [2]\n",
            " [0]\n",
            " [0]\n",
            " [1]\n",
            " [1]\n",
            " [2]\n",
            " [2]\n",
            " [0]\n",
            " [2]\n",
            " [2]\n",
            " [1]\n",
            " [0]\n",
            " [2]\n",
            " [2]\n",
            " [1]\n",
            " [2]\n",
            " [1]\n",
            " [0]\n",
            " [1]\n",
            " [0]\n",
            " [0]\n",
            " [1]\n",
            " [2]]\n"
          ]
        }
      ]
    },
    {
      "cell_type": "code",
      "metadata": {
        "colab": {
          "base_uri": "https://localhost:8080/"
        },
        "id": "xTEKbVb6mmzh",
        "outputId": "67e251cf-f3b2-4b24-930a-be492bc4b632"
      },
      "source": [
        "y_true_vertical = y_test.reshape(len(y_test),1)\n",
        "print(y_true_vertical)"
      ],
      "execution_count": 10,
      "outputs": [
        {
          "output_type": "stream",
          "name": "stdout",
          "text": [
            "[[1]\n",
            " [0]\n",
            " [0]\n",
            " [0]\n",
            " [1]\n",
            " [1]\n",
            " [0]\n",
            " [2]\n",
            " [0]\n",
            " [0]\n",
            " [1]\n",
            " [1]\n",
            " [2]\n",
            " [2]\n",
            " [0]\n",
            " [1]\n",
            " [2]\n",
            " [1]\n",
            " [0]\n",
            " [2]\n",
            " [2]\n",
            " [1]\n",
            " [1]\n",
            " [1]\n",
            " [0]\n",
            " [1]\n",
            " [0]\n",
            " [0]\n",
            " [1]\n",
            " [2]]\n"
          ]
        }
      ]
    },
    {
      "cell_type": "code",
      "metadata": {
        "colab": {
          "base_uri": "https://localhost:8080/",
          "height": 295
        },
        "id": "X7ODAPaFm0ZU",
        "outputId": "c3d88d94-6cca-4c14-c7e7-03756364d6a4"
      },
      "source": [
        "#Para la matriz de conflicto\n",
        "from sklearn.metrics import confusion_matrix\n",
        "confusion_mat = confusion_matrix(y_test, y_pred)\n",
        "sns.heatmap(confusion_mat, annot= True)\n",
        "plt.xlabel(\"Resultados predichos\")\n",
        "plt.ylabel(\"Resultados verdaderos\")\n",
        "plt.title(\"Matriz de confusión\")\n",
        "plt.show()"
      ],
      "execution_count": 11,
      "outputs": [
        {
          "output_type": "display_data",
          "data": {
            "image/png": "[encoded data removed]",
            "text/plain": [
              "<Figure size 432x288 with 2 Axes>"
            ]
          },
          "metadata": {
            "needs_background": "light"
          }
        }
      ]
    },
    {
      "cell_type": "code",
      "metadata": {
        "colab": {
          "base_uri": "https://localhost:8080/"
        },
        "id": "NlcumJtDnAlm",
        "outputId": "bba60335-a376-4ca2-fa87-395ec9be8259"
      },
      "source": [
        "#Para ver la precisión del modelo\n",
        "from sklearn.metrics import accuracy_score\n",
        "accuracy_score(y_test, y_pred)"
      ],
      "execution_count": 16,
      "outputs": [
        {
          "output_type": "execute_result",
          "data": {
            "text/plain": [
              "0.9333333333333333"
            ]
          },
          "metadata": {},
          "execution_count": 16
        }
      ]
    },
    {
      "cell_type": "code",
      "metadata": {
        "colab": {
          "base_uri": "https://localhost:8080/"
        },
        "id": "IrwzOFHmxmOA",
        "outputId": "5bae29e7-c8a9-41ff-c342-d7ca3e963548"
      },
      "source": [
        "#Hallazgo MCC\n",
        "from sklearn.metrics import matthews_corrcoef\n",
        "matthews_corrcoef(y_test, y_pred)"
      ],
      "execution_count": 30,
      "outputs": [
        {
          "output_type": "execute_result",
          "data": {
            "text/plain": [
              "0.9054519110463853"
            ]
          },
          "metadata": {},
          "execution_count": 30
        }
      ]
    },
    {
      "cell_type": "code",
      "metadata": {
        "colab": {
          "base_uri": "https://localhost:8080/"
        },
        "id": "6GUTYoHlzUfs",
        "outputId": "54121c16-1bc8-4584-b333-33dadbeb98c4"
      },
      "source": [
        "#Hallazgo F1\n",
        "from sklearn.metrics import f1_score\n",
        "print(f1_score(y_test, y_pred, average= 'weighted'))\n",
        "print(f1_score(y_test, y_pred, average= 'macro'))\n",
        "print(f1_score(y_test, y_pred, average= 'micro'))"
      ],
      "execution_count": 31,
      "outputs": [
        {
          "output_type": "stream",
          "name": "stdout",
          "text": [
            "0.9344696969696968\n",
            "0.9280303030303031\n",
            "0.9333333333333333\n"
          ]
        }
      ]
    },
    {
      "cell_type": "code",
      "metadata": {
        "colab": {
          "base_uri": "https://localhost:8080/"
        },
        "id": "LVlwB5pVx29B",
        "outputId": "4919c347-dd15-41c4-e8ab-c602695beff4"
      },
      "source": [
        "#Comparar\n",
        "from sklearn.metrics import classification_report\n",
        "print(classification_report(y_test, y_pred))\n"
      ],
      "execution_count": 32,
      "outputs": [
        {
          "output_type": "stream",
          "name": "stdout",
          "text": [
            "              precision    recall  f1-score   support\n",
            "\n",
            "           0       1.00      1.00      1.00        11\n",
            "           1       1.00      0.83      0.91        12\n",
            "           2       0.78      1.00      0.88         7\n",
            "\n",
            "    accuracy                           0.93        30\n",
            "   macro avg       0.93      0.94      0.93        30\n",
            "weighted avg       0.95      0.93      0.93        30\n",
            "\n"
          ]
        }
      ]
    },
    {
      "cell_type": "code",
      "metadata": {
        "colab": {
          "base_uri": "https://localhost:8080/"
        },
        "id": "Jl_kwTWUnJYo",
        "outputId": "cde1715c-ecf2-467b-f37d-41bf8a57aedc"
      },
      "source": [
        "prediction = dtc.predict([[5,3,1.6,0.2]])\n",
        "print(prediction)"
      ],
      "execution_count": 14,
      "outputs": [
        {
          "output_type": "stream",
          "name": "stdout",
          "text": [
            "[0]\n"
          ]
        }
      ]
    }
  ]
}